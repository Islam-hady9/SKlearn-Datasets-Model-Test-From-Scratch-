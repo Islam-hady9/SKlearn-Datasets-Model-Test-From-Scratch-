{
 "cells": [
  {
   "cell_type": "markdown",
   "id": "8c976b35",
   "metadata": {},
   "source": [
    "# (make_classification class) in sklearn"
   ]
  },
  {
   "cell_type": "code",
   "execution_count": 30,
   "id": "c211f9ee",
   "metadata": {},
   "outputs": [],
   "source": [
    "# import (make_classification class) from sklearn\n",
    "from sklearn.datasets import make_classification"
   ]
  },
  {
   "cell_type": "code",
   "execution_count": 31,
   "id": "2efddddd",
   "metadata": {},
   "outputs": [
    {
     "data": {
      "text/plain": [
       "'\\nX, y = make_classification(n_samples = 100, n_features = 20, n_informative = 2, n_redundant = 2,\\n                           n_repeated = 0, n_classes = 2, n_clusters_per_class = 2, weights = None,\\n                           flip_y = 0.01, class_sep = 1.0, hypercube = True, shift = 0.0,\\n                           Scale() = 1.0, shuffle = True, random_state = None)\\n'"
      ]
     },
     "execution_count": 31,
     "metadata": {},
     "output_type": "execute_result"
    }
   ],
   "source": [
    "# load classification data\n",
    "\n",
    "'''\n",
    "X, y = make_classification(n_samples = 100, n_features = 20, n_informative = 2, n_redundant = 2,\n",
    "                           n_repeated = 0, n_classes = 2, n_clusters_per_class = 2, weights = None,\n",
    "                           flip_y = 0.01, class_sep = 1.0, hypercube = True, shift = 0.0,\n",
    "                           Scale() = 1.0, shuffle = True, random_state = None)\n",
    "'''"
   ]
  },
  {
   "cell_type": "code",
   "execution_count": 32,
   "id": "17cf8956",
   "metadata": {},
   "outputs": [],
   "source": [
    "X_train, y_train = make_classification(n_samples = 100, n_features = 20, shuffle = True)"
   ]
  },
  {
   "cell_type": "code",
   "execution_count": 33,
   "id": "c695b3d5",
   "metadata": {},
   "outputs": [
    {
     "name": "stdout",
     "output_type": "stream",
     "text": [
      "X Data is \n",
      " [[ 1.53920701e+00 -3.75008758e-04 -1.88141087e+00 -4.38997664e-01\n",
      "  -9.34118598e-01 -1.09033833e+00 -4.58666861e-02 -2.18733459e-01\n",
      "  -1.14870423e+00  1.29354962e+00 -7.04350332e-01  5.90039464e-01\n",
      "   1.70018815e+00 -1.46836605e+00 -9.50909251e-01  1.06865411e+00\n",
      "  -1.81033255e+00 -6.79383783e-01  6.08783659e-01  1.53653633e+00]\n",
      " [-7.45644050e-01  7.38053685e-01  1.70243005e+00 -1.00897684e-02\n",
      "  -8.67660306e-01 -6.98570662e-01 -1.12299083e-01  8.04122851e-01\n",
      "   4.80507067e-02  1.33050612e+00 -3.67832201e-01  9.88510642e-01\n",
      "  -2.32904112e+00  3.74130916e-01  1.56975551e+00  4.46980706e-01\n",
      "  -1.57346778e-01  1.04143963e+00  3.34915144e-01 -1.18106290e+00]\n",
      " [-3.62812886e-02  5.78464420e-01 -4.52524973e-01 -1.45832446e+00\n",
      "  -1.45390261e+00  1.92381543e+00  6.12232523e-01  7.44884536e-01\n",
      "  -8.32395348e-01 -9.61263599e-01  2.04377395e-01  4.94341651e-01\n",
      "  -6.05981321e-01 -1.25866205e+00 -4.46699203e-01  1.34095257e+00\n",
      "  -1.91724296e+00 -1.49419377e+00  1.80358898e+00 -1.55269878e+00]\n",
      " [-9.88964457e-01 -9.24541212e-01 -2.41801865e-01  1.32592268e+00\n",
      "   1.60144790e+00 -1.32374541e+00 -7.01648532e-01 -4.07369685e-01\n",
      "  -9.49863859e-01 -1.74940542e+00  1.29418231e+00 -3.63786438e-02\n",
      "   2.16332958e-01  2.21411471e-01 -1.42433368e+00 -1.11129645e+00\n",
      "   1.09016167e+00  1.90077932e+00 -1.31420103e+00 -1.03728917e+00]\n",
      " [ 4.89219194e-01  2.96957368e-01  2.00556158e+00  1.54960885e+00\n",
      "  -4.68199675e-01  1.52186577e+00 -1.05261754e-02 -3.88240907e-01\n",
      "  -1.11683226e+00 -1.40059445e+00  1.09782946e-01 -1.07001690e+00\n",
      "   2.02447357e-01  1.54369430e+00 -1.28913004e+00 -1.80056519e-01\n",
      "   1.09181162e+00  6.13951564e-01 -2.79144404e+00 -4.63337968e-01]\n",
      " [ 4.25920177e-01  5.05381903e-01 -7.02920403e-01 -1.94068096e+00\n",
      "   3.43376272e-01  1.10223673e+00 -2.08639057e+00  3.61801641e-01\n",
      "   4.90803971e-02  1.21794090e+00  8.61623101e-01 -8.06178212e-01\n",
      "  -1.22957425e+00 -1.37439414e+00 -5.96086335e-01  2.08106828e-01\n",
      "  -1.01317878e+00  4.90616924e-02  1.10861676e+00 -3.59224096e-01]\n",
      " [-1.40522754e+00 -2.73377138e-01 -6.82847844e-01 -2.10349278e+00\n",
      "   4.37345805e-01 -2.61781696e-01 -2.17212271e+00  1.90387237e-01\n",
      "   3.69860474e-01  1.47641399e+00 -7.94702652e-01 -5.32831961e-01\n",
      "  -8.32713513e-01 -4.77113737e-01 -1.53042074e+00 -1.34718528e-01\n",
      "  -1.73721480e-01 -3.05053994e-01 -1.55378261e+00  3.18624695e-01]\n",
      " [-1.39351805e-01 -1.01480369e+00 -7.25214926e-01 -6.87487393e-01\n",
      "  -9.98923314e-01  5.31163793e-01 -1.55694156e+00 -6.12442128e-01\n",
      "  -7.28537489e-01  4.35986196e-01  1.00978733e+00 -2.69836174e+00\n",
      "   4.00084198e-03 -1.34178212e+00  7.22518992e-02  1.07107111e+00\n",
      "  -1.73558052e+00 -1.21333813e+00  3.21265914e-01 -3.79517516e-01]\n",
      " [ 1.85675354e-01  2.51859703e-01  1.72816084e-01 -2.66490561e-01\n",
      "   2.88991272e-01  3.78575577e-01  8.39534223e-01 -6.55616687e-01\n",
      "   6.37025319e-01  1.60432394e+00  1.87288694e-01 -1.45833594e+00\n",
      "  -5.39697653e-01  6.08319801e-01  1.83586955e+00 -3.78974951e-01\n",
      "   6.95161754e-01  9.51381812e-01  1.63062979e+00  1.46532073e-01]\n",
      " [-2.83052868e-01  4.93877562e-03  7.34011810e-01  9.08339690e-01\n",
      "   6.48795175e-01  9.67393546e-02  1.25913353e+00 -7.51977434e-01\n",
      "  -1.29273740e+00 -2.22219476e-01 -1.89767166e-01 -1.58606770e-01\n",
      "   1.06950100e+00  1.42746096e-01 -1.14218260e-01 -4.66873271e-01\n",
      "   4.88176655e-01  6.95305995e-01  6.81401910e-01 -6.67930067e-01]]\n",
      "X shape is  (100, 20)\n",
      "y Data is \n",
      " [0 0 0 1 0 0 0 1 0 1]\n",
      "y shape is  (100,)\n"
     ]
    }
   ],
   "source": [
    "#X Data\n",
    "print('X Data is \\n' , X_train[:10])\n",
    "print('X shape is ' , X_train.shape)\n",
    "\n",
    "#y Data\n",
    "print('y Data is \\n' , y_train[:10])\n",
    "print('y shape is ' , y_train.shape)"
   ]
  },
  {
   "cell_type": "code",
   "execution_count": 34,
   "id": "595422ad",
   "metadata": {},
   "outputs": [],
   "source": [
    "#Required Libraries\n",
    "import math\n",
    "import copy\n",
    "import numpy as np  "
   ]
  },
  {
   "cell_type": "markdown",
   "id": "9989bd61",
   "metadata": {},
   "source": [
    "<a name=\"2.3\"></a>\n",
    "### Sigmoid function\n",
    "\n",
    "Recall that for logistic regression, the model is represented as\n",
    "\n",
    "$$ f_{\\mathbf{w},b}(x) = g(\\mathbf{w}\\cdot \\mathbf{x} + b)$$\n",
    "where function $g$ is the sigmoid function. The sigmoid function is defined as:\n",
    "\n",
    "$$g(z) = \\frac{1}{1+e^{-z}}$$\n",
    "<a name='ex-01'></a>"
   ]
  },
  {
   "cell_type": "code",
   "execution_count": 35,
   "id": "a403ba4a",
   "metadata": {},
   "outputs": [],
   "source": [
    "# UNQ_C1\n",
    "# GRADED FUNCTION: sigmoid\n",
    "\n",
    "def sigmoid(z):\n",
    "    \"\"\"\n",
    "    Compute the sigmoid of z\n",
    "\n",
    "    Args:\n",
    "        z (ndarray): A scalar, numpy array of any size.\n",
    "\n",
    "    Returns:\n",
    "        g (ndarray): sigmoid(z), with the same shape as z\n",
    "         \n",
    "    \"\"\"\n",
    "          \n",
    "    ### START CODE HERE ### \n",
    "    g = 1/(1+np.exp(-z))\n",
    "    ### END SOLUTION ###  \n",
    "    \n",
    "    return g"
   ]
  },
  {
   "cell_type": "code",
   "execution_count": 36,
   "id": "70f39f69",
   "metadata": {},
   "outputs": [
    {
     "name": "stdout",
     "output_type": "stream",
     "text": [
      "sigmoid(0) = 0.5\n"
     ]
    }
   ],
   "source": [
    "print (\"sigmoid(0) = \" + str(sigmoid(0)))"
   ]
  },
  {
   "cell_type": "markdown",
   "id": "a1087939",
   "metadata": {},
   "source": [
    "<a name=\"2.4\"></a>\n",
    "### Cost function for logistic regression\n",
    "\n",
    "In this section, you will implement the cost function for logistic regression.\n",
    "\n",
    "<a name='ex-02'></a>\n",
    "\n",
    "Recall that for logistic regression, the cost function is of the form \n",
    "\n",
    "$$ J(\\mathbf{w},b) = \\frac{1}{m}\\sum_{i=0}^{m-1} \\left[ loss(f_{\\mathbf{w},b}(\\mathbf{x}^{(i)}), y^{(i)}) \\right] \\tag{1}$$\n",
    "\n",
    "where\n",
    "* m is the number of training examples in the dataset\n",
    "\n",
    "\n",
    "* $loss(f_{\\mathbf{w},b}(\\mathbf{x}^{(i)}), y^{(i)})$ is the cost for a single data point, which is - \n",
    "\n",
    "    $$loss(f_{\\mathbf{w},b}(\\mathbf{x}^{(i)}), y^{(i)}) = (-y^{(i)} \\log\\left(f_{\\mathbf{w},b}\\left( \\mathbf{x}^{(i)} \\right) \\right) - \\left( 1 - y^{(i)}\\right) \\log \\left( 1 - f_{\\mathbf{w},b}\\left( \\mathbf{x}^{(i)} \\right) \\right) \\tag{2}$$\n",
    "    \n",
    "    \n",
    "*  $f_{\\mathbf{w},b}(\\mathbf{x}^{(i)})$ is the model's prediction, while $y^{(i)}$, which is the actual label\n",
    "\n",
    "*  $f_{\\mathbf{w},b}(\\mathbf{x}^{(i)}) = g(\\mathbf{w} \\cdot \\mathbf{x^{(i)}} + b)$ where function $g$ is the sigmoid function.\n",
    "    * It might be helpful to first calculate an intermediate variable $z_{\\mathbf{w},b}(\\mathbf{x}^{(i)}) = \\mathbf{w} \\cdot \\mathbf{x^{(i)}} + b = w_0x^{(i)}_0 + ... + w_{n-1}x^{(i)}_{n-1} + b$ where $n$ is the number of features, before calculating $f_{\\mathbf{w},b}(\\mathbf{x}^{(i)}) = g(z_{\\mathbf{w},b}(\\mathbf{x}^{(i)}))$\n",
    "\n",
    "Note:\n",
    "* As you are doing this, remember that the variables `X_train` and `y_train` are not scalar values but matrices of shape ($m, n$) and ($𝑚$,1) respectively, where  $𝑛$ is the number of features and $𝑚$ is the number of training examples.\n",
    "* You can use the sigmoid function that you implemented above for this part.\n",
    "\n",
    "If you get stuck, you can check out the hints presented after the cell below to help you with the implementation."
   ]
  },
  {
   "cell_type": "code",
   "execution_count": 37,
   "id": "d9112eda",
   "metadata": {},
   "outputs": [],
   "source": [
    "# UNQ_C2\n",
    "# GRADED FUNCTION: compute_cost\n",
    "def compute_cost(X, y, w, b, lambda_= 1):\n",
    "    \"\"\"\n",
    "    Computes the cost over all examples\n",
    "    Args:\n",
    "      X : (ndarray Shape (m,n)) data, m examples by n features\n",
    "      y : (array_like Shape (m,)) target value \n",
    "      w : (array_like Shape (n,)) Values of parameters of the model      \n",
    "      b : scalar Values of bias parameter of the model\n",
    "      lambda_: unused placeholder\n",
    "    Returns:\n",
    "      total_cost: (scalar)         cost \n",
    "    \"\"\"\n",
    "\n",
    "    m, n = X.shape\n",
    "    \n",
    "    ### START CODE HERE ###\n",
    "    cost = 0\n",
    "    for i in range(m):\n",
    "        z = np.dot(X[i],w) + b\n",
    "        f_wb = sigmoid(z)\n",
    "        cost += -y[i]*np.log(f_wb) - (1-y[i])*np.log(1-f_wb)\n",
    "    total_cost = cost/m\n",
    "    \n",
    "    ### END CODE HERE ### \n",
    "\n",
    "    return total_cost"
   ]
  },
  {
   "cell_type": "markdown",
   "id": "54a6535a",
   "metadata": {},
   "source": [
    "Run the cells below to check your implementation of the `compute_cost` function with two different initializations of the parameters $w$"
   ]
  },
  {
   "cell_type": "code",
   "execution_count": 38,
   "id": "ed8803fd",
   "metadata": {},
   "outputs": [
    {
     "name": "stdout",
     "output_type": "stream",
     "text": [
      "Cost at initial w (zeros): 0.693\n"
     ]
    }
   ],
   "source": [
    "m, n = X_train.shape\n",
    "\n",
    "# Compute and display cost with w initialized to zeroes\n",
    "initial_w = np.zeros(n)\n",
    "initial_b = 0.\n",
    "cost = compute_cost(X_train, y_train, initial_w, initial_b)\n",
    "print('Cost at initial w (zeros): {:.3f}'.format(cost))"
   ]
  },
  {
   "cell_type": "markdown",
   "id": "09ca6e1d",
   "metadata": {},
   "source": [
    "<a name=\"2.5\"></a>\n",
    "### Gradient for logistic regression\n",
    "\n",
    "In this section, you will implement the gradient for logistic regression.\n",
    "\n",
    "Recall that the gradient descent algorithm is:\n",
    "\n",
    "$$\\begin{align*}& \\text{repeat until convergence:} \\; \\lbrace \\newline \\; & b := b -  \\alpha \\frac{\\partial J(\\mathbf{w},b)}{\\partial b} \\newline       \\; & w_j := w_j -  \\alpha \\frac{\\partial J(\\mathbf{w},b)}{\\partial w_j} \\tag{1}  \\; & \\text{for j := 0..n-1}\\newline & \\rbrace\\end{align*}$$\n",
    "\n",
    "where, parameters $b$, $w_j$ are all updated simultaniously"
   ]
  },
  {
   "cell_type": "markdown",
   "id": "bdd147d3",
   "metadata": {},
   "source": [
    "<a name='ex-03'></a>\n",
    "$$\n",
    "\\frac{\\partial J(\\mathbf{w},b)}{\\partial b}  = \\frac{1}{m} \\sum\\limits_{i = 0}^{m-1} (f_{\\mathbf{w},b}(\\mathbf{x}^{(i)}) - \\mathbf{y}^{(i)}) \\tag{2}\n",
    "$$\n",
    "$$\n",
    "\\frac{\\partial J(\\mathbf{w},b)}{\\partial w_j}  = \\frac{1}{m} \\sum\\limits_{i = 0}^{m-1} (f_{\\mathbf{w},b}(\\mathbf{x}^{(i)}) - \\mathbf{y}^{(i)})x_{j}^{(i)} \\tag{3}\n",
    "$$\n",
    "* m is the number of training examples in the dataset\n",
    "\n",
    "    \n",
    "*  $f_{\\mathbf{w},b}(x^{(i)})$ is the model's prediction, while $y^{(i)}$ is the actual label\n",
    "\n",
    "\n",
    "- **Note**: While this gradient looks identical to the linear regression gradient, the formula is actually different because linear and logistic regression have different definitions of $f_{\\mathbf{w},b}(x)$.\n",
    "\n",
    "As before, you can use the sigmoid function that you implemented above and if you get stuck, you can check out the hints presented after the cell below to help you with the implementation."
   ]
  },
  {
   "cell_type": "code",
   "execution_count": 39,
   "id": "03fcbf42",
   "metadata": {},
   "outputs": [],
   "source": [
    "# UNQ_C3\n",
    "# GRADED FUNCTION: compute_gradient\n",
    "def compute_gradient(X, y, w, b, lambda_=None): \n",
    "    \"\"\"\n",
    "    Computes the gradient for logistic regression \n",
    " \n",
    "    Args:\n",
    "      X : (ndarray Shape (m,n)) variable such as house size \n",
    "      y : (array_like Shape (m,1)) actual value \n",
    "      w : (array_like Shape (n,1)) values of parameters of the model      \n",
    "      b : (scalar)                 value of parameter of the model \n",
    "      lambda_: unused placeholder.\n",
    "    Returns\n",
    "      dj_dw: (array_like Shape (n,1)) The gradient of the cost w.r.t. the parameters w. \n",
    "      dj_db: (scalar)                The gradient of the cost w.r.t. the parameter b. \n",
    "    \"\"\"\n",
    "    m, n = X.shape\n",
    "    dj_dw = np.zeros(w.shape)\n",
    "    dj_db = 0.\n",
    "\n",
    "    ### START CODE HERE ### \n",
    "    for i in range(m):\n",
    "        f_wb_i = sigmoid(np.dot(X[i],w) + b)          \n",
    "        err_i  = f_wb_i  - y[i]                       \n",
    "        for j in range(n):\n",
    "            dj_dw[j] = dj_dw[j] + err_i * X[i,j]      \n",
    "        dj_db = dj_db + err_i\n",
    "    dj_dw = dj_dw/m                                   \n",
    "    dj_db = dj_db/m                                   \n",
    "        \n",
    "    ### END CODE HERE ###\n",
    "\n",
    "        \n",
    "    return dj_db, dj_dw"
   ]
  },
  {
   "cell_type": "markdown",
   "id": "f5afb0a5",
   "metadata": {},
   "source": [
    "Run the cells below to check your implementation of the `compute_gradient` function with two different initializations of the parameters $w$"
   ]
  },
  {
   "cell_type": "code",
   "execution_count": 40,
   "id": "9047ed2e",
   "metadata": {},
   "outputs": [
    {
     "name": "stdout",
     "output_type": "stream",
     "text": [
      "dj_db at initial w (zeros):-0.01\n",
      "dj_dw at initial w (zeros):[-0.008695458410441791, 0.0048853630533699545, -0.059747313609267036, -0.037451753774149985, -0.4317456090695312, 0.05595465450436823, 0.009641650150639988, -0.04227015188335309, 0.04234073486976076, 0.0418009648066825, -0.006173738168165447, -0.0509822027433788, -0.09204349127796702, 0.006794962252611232, -0.053323681661310046, 0.2787291013162181, -0.23559780666648375, 0.04136883544457714, 0.05121596075326362, 0.0030894861006788244]\n"
     ]
    }
   ],
   "source": [
    "# Compute and display gradient with w initialized to zeroes\n",
    "initial_w = np.zeros(n)\n",
    "initial_b = 0.\n",
    "\n",
    "dj_db, dj_dw = compute_gradient(X_train, y_train, initial_w, initial_b)\n",
    "print(f'dj_db at initial w (zeros):{dj_db}' )\n",
    "print(f'dj_dw at initial w (zeros):{dj_dw.tolist()}' )"
   ]
  },
  {
   "cell_type": "code",
   "execution_count": 41,
   "id": "bb13e51c",
   "metadata": {},
   "outputs": [],
   "source": [
    "def gradient_descent(X, y, w_in, b_in, cost_function, gradient_function, alpha, num_iters, lambda_): \n",
    "    \"\"\"\n",
    "    Performs batch gradient descent to learn theta. Updates theta by taking \n",
    "    num_iters gradient steps with learning rate alpha\n",
    "    \n",
    "    Args:\n",
    "      X :    (array_like Shape (m, n)\n",
    "      y :    (array_like Shape (m,))\n",
    "      w_in : (array_like Shape (n,))  Initial values of parameters of the model\n",
    "      b_in : (scalar)                 Initial value of parameter of the model\n",
    "      cost_function:                  function to compute cost\n",
    "      alpha : (float)                 Learning rate\n",
    "      num_iters : (int)               number of iterations to run gradient descent\n",
    "      lambda_ (scalar, float)         regularization constant\n",
    "      \n",
    "    Returns:\n",
    "      w : (array_like Shape (n,)) Updated values of parameters of the model after\n",
    "          running gradient descent\n",
    "      b : (scalar)                Updated value of parameter of the model after\n",
    "          running gradient descent\n",
    "    \"\"\"\n",
    "    \n",
    "    # number of training examples\n",
    "    m = len(X)\n",
    "    \n",
    "    # An array to store cost J and w's at each iteration primarily for graphing later\n",
    "    J_history = []\n",
    "    w_history = []\n",
    "    \n",
    "    for i in range(num_iters):\n",
    "\n",
    "        # Calculate the gradient and update the parameters\n",
    "        dj_db, dj_dw = gradient_function(X, y, w_in, b_in, lambda_)   \n",
    "\n",
    "        # Update Parameters using w, b, alpha and gradient\n",
    "        w_in = w_in - alpha * dj_dw               \n",
    "        b_in = b_in - alpha * dj_db              \n",
    "       \n",
    "        # Save cost J at each iteration\n",
    "        if i<100000:      # prevent resource exhaustion \n",
    "            cost =  cost_function(X, y, w_in, b_in, lambda_)\n",
    "            J_history.append(cost)\n",
    "\n",
    "        # Print cost every at intervals 10 times or as many iterations if < 10\n",
    "        if i% math.ceil(num_iters/10) == 0 or i == (num_iters-1):\n",
    "            w_history.append(w_in)\n",
    "            print(f\"Iteration {i:4}: Cost {float(J_history[-1]):8.2f}   \")\n",
    "        \n",
    "    return w_in, b_in, J_history, w_history #return w and J,w history for graphing"
   ]
  },
  {
   "cell_type": "code",
   "execution_count": 42,
   "id": "8ff8b188",
   "metadata": {},
   "outputs": [
    {
     "name": "stdout",
     "output_type": "stream",
     "text": [
      "Iteration    0: Cost     4.08   \n",
      "Iteration 1000: Cost     3.41   \n",
      "Iteration 2000: Cost     2.74   \n",
      "Iteration 3000: Cost     2.13   \n",
      "Iteration 4000: Cost     1.67   \n",
      "Iteration 5000: Cost     1.37   \n",
      "Iteration 6000: Cost     1.17   \n",
      "Iteration 7000: Cost     1.03   \n",
      "Iteration 8000: Cost     0.93   \n",
      "Iteration 9000: Cost     0.85   \n",
      "Iteration 9999: Cost     0.79   \n"
     ]
    }
   ],
   "source": [
    "np.random.seed(1)\n",
    "intial_w = 0.01 * (np.random.rand(2).reshape(-1,1) - 0.5)\n",
    "initial_b = -8\n",
    "\n",
    "\n",
    "# Some gradient descent settings\n",
    "iterations = 10000\n",
    "alpha = 0.001\n",
    "\n",
    "w,b, J_history,_ = gradient_descent(X_train ,y_train, initial_w, initial_b, \n",
    "                                   compute_cost, compute_gradient, alpha, iterations, 0)"
   ]
  },
  {
   "cell_type": "markdown",
   "id": "aecd8764",
   "metadata": {},
   "source": [
    "<a name=\"2.8\"></a>\n",
    "### Evaluating logistic regression\n",
    "\n",
    "We can evaluate the quality of the parameters we have found by seeing how well the learned model predicts on our training set. \n",
    "\n",
    "You will implement the `predict` function below to do this.\n"
   ]
  },
  {
   "cell_type": "markdown",
   "id": "a5882e6b",
   "metadata": {},
   "source": [
    "<a name='ex-04'></a>\n",
    "- First you need to compute the prediction from the model $f(x^{(i)}) = g(w \\cdot x^{(i)})$ for every example \n",
    "    - You've implemented this before in the parts above\n",
    "- We interpret the output of the model ($f(x^{(i)})$) as the probability that $y^{(i)}=1$ given $x^{(i)}$ and parameterized by $w$.\n",
    "- Therefore, to get a final prediction ($y^{(i)}=0$ or $y^{(i)}=1$) from the logistic regression model, you can use the following heuristic -\n",
    "\n",
    "  if $f(x^{(i)}) >= 0.5$, predict $y^{(i)}=1$\n",
    "  \n",
    "  if $f(x^{(i)}) < 0.5$, predict $y^{(i)}=0$\n",
    "    \n",
    "If you get stuck, you can check out the hints presented after the cell below to help you with the implementation."
   ]
  },
  {
   "cell_type": "code",
   "execution_count": 43,
   "id": "aff07c6e",
   "metadata": {},
   "outputs": [],
   "source": [
    "# UNQ_C4\n",
    "# GRADED FUNCTION: predict\n",
    "\n",
    "def predict(X, w, b): \n",
    "    \"\"\"\n",
    "    Predict whether the label is 0 or 1 using learned logistic\n",
    "    regression parameters w\n",
    "    \n",
    "    Args:\n",
    "    X : (ndarray Shape (m, n))\n",
    "    w : (array_like Shape (n,))      Parameters of the model\n",
    "    b : (scalar, float)              Parameter of the model\n",
    "\n",
    "    Returns:\n",
    "    p: (ndarray (m,1))\n",
    "        The predictions for X using a threshold at 0.5\n",
    "    \"\"\"\n",
    "    # number of training examples\n",
    "    m, n = X.shape   \n",
    "    p = np.zeros(m)\n",
    "   \n",
    "    ### START CODE HERE ### \n",
    "    # Loop over each example\n",
    "    for i in range(m):   \n",
    "        z_wb = np.dot(X[i],w) \n",
    "        # Loop over each feature\n",
    "        for j in range(n): \n",
    "            # Add the corresponding term to z_wb\n",
    "            z_wb += 0\n",
    "        \n",
    "        # Add bias term \n",
    "        z_wb += b\n",
    "        \n",
    "        # Calculate the prediction for this example\n",
    "        f_wb = sigmoid(z_wb)\n",
    "\n",
    "        # Apply the threshold\n",
    "        p[i] = 1 if f_wb>0.5 else 0\n",
    "        \n",
    "    ### END CODE HERE ### \n",
    "    return p"
   ]
  },
  {
   "cell_type": "markdown",
   "id": "43cbd315",
   "metadata": {},
   "source": [
    "Once you have completed the function `predict`, let's run the code below to report the training accuracy of your classifier by computing the percentage of examples it got correct."
   ]
  },
  {
   "cell_type": "code",
   "execution_count": 44,
   "id": "3d1dcef2",
   "metadata": {},
   "outputs": [
    {
     "name": "stdout",
     "output_type": "stream",
     "text": [
      "Output of predict: shape (20,), value [1. 1. 1. 1. 1. 1. 1. 1. 1. 0. 0. 1. 0. 0. 1. 1. 0. 1. 0. 0.]\n"
     ]
    }
   ],
   "source": [
    "# Test your predict code\n",
    "np.random.seed(1)\n",
    "tmp_w = np.random.randn(20)\n",
    "tmp_b = 0.3    \n",
    "tmp_X = np.random.randn(20, 20) - 0.5\n",
    "\n",
    "tmp_p = predict(tmp_X, tmp_w, tmp_b)\n",
    "print(f'Output of predict: shape {tmp_p.shape}, value {tmp_p}')"
   ]
  },
  {
   "cell_type": "markdown",
   "id": "5b90f3b0",
   "metadata": {},
   "source": [
    "Now let's use this to compute the accuracy on the training set"
   ]
  },
  {
   "cell_type": "code",
   "execution_count": 29,
   "id": "a20c67f4",
   "metadata": {},
   "outputs": [
    {
     "name": "stdout",
     "output_type": "stream",
     "text": [
      "Train Accuracy: 83.000000\n"
     ]
    }
   ],
   "source": [
    "#Compute accuracy on our training set\n",
    "p = predict(X_train, w,b)\n",
    "print('Train Accuracy: %f'%(np.mean(p == y_train) * 100))"
   ]
  }
 ],
 "metadata": {
  "kernelspec": {
   "display_name": "Python 3 (ipykernel)",
   "language": "python",
   "name": "python3"
  },
  "language_info": {
   "codemirror_mode": {
    "name": "ipython",
    "version": 3
   },
   "file_extension": ".py",
   "mimetype": "text/x-python",
   "name": "python",
   "nbconvert_exporter": "python",
   "pygments_lexer": "ipython3",
   "version": "3.9.16"
  }
 },
 "nbformat": 4,
 "nbformat_minor": 5
}
