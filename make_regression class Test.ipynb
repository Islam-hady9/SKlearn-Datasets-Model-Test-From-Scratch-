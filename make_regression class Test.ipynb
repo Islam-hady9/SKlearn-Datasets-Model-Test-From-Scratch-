{
 "cells": [
  {
   "cell_type": "markdown",
   "id": "d7966bad",
   "metadata": {},
   "source": [
    "# (make_regression class) in sklearn"
   ]
  },
  {
   "cell_type": "code",
   "execution_count": 37,
   "id": "66f01aa8",
   "metadata": {},
   "outputs": [],
   "source": [
    "# import (make_regression class) from sklearn\n",
    "from sklearn.datasets import make_regression"
   ]
  },
  {
   "cell_type": "code",
   "execution_count": 38,
   "id": "a9bc3a1e",
   "metadata": {},
   "outputs": [
    {
     "data": {
      "text/plain": [
       "'\\nX ,y = make_regression(n_samples=100, n_features=100, n_informative=10,\\n                       n_targets=1, bias=0.0, effective_rank=None,\\n                       tail_strength=0.5, noise=0.0, shuffle=True, coef=False,\\n                       random_state=None)\\n'"
      ]
     },
     "execution_count": 38,
     "metadata": {},
     "output_type": "execute_result"
    }
   ],
   "source": [
    "#load regression data\n",
    "\n",
    "'''\n",
    "X ,y = make_regression(n_samples=100, n_features=100, n_informative=10,\n",
    "                       n_targets=1, bias=0.0, effective_rank=None,\n",
    "                       tail_strength=0.5, noise=0.0, shuffle=True, coef=False,\n",
    "                       random_state=None)\n",
    "'''"
   ]
  },
  {
   "cell_type": "code",
   "execution_count": 39,
   "id": "f52e9a84",
   "metadata": {},
   "outputs": [],
   "source": [
    "X_train, y_train = make_regression(n_samples=100, n_features=4,shuffle=True)"
   ]
  },
  {
   "cell_type": "code",
   "execution_count": 40,
   "id": "ba265092",
   "metadata": {},
   "outputs": [
    {
     "name": "stdout",
     "output_type": "stream",
     "text": [
      "X Data is \n",
      " [[ 1.56008465 -0.80906744  0.33970077 -1.60667062]\n",
      " [-1.43023705  1.04793992 -1.70989442 -0.06787459]\n",
      " [ 0.08675528  0.210307   -0.97916107  1.82202594]\n",
      " [ 0.66526866 -0.96102381 -1.60977503  0.16796504]\n",
      " [ 2.12014703  1.80137224 -1.33269625 -0.41325606]\n",
      " [ 0.427389   -0.05567146  1.05049111 -1.12636094]\n",
      " [-0.75092938 -0.37137736  0.13817374  1.05831239]\n",
      " [-0.79305831  1.44426035  0.61159593  0.32864633]\n",
      " [ 0.02708803 -0.41829533 -0.40416296  0.11518759]\n",
      " [-0.47718422  0.38250713 -1.26771075  0.14392035]]\n",
      "X shape is  (100, 4)\n",
      "y Data is \n",
      " [ 149.26940167 -197.69601505  -25.26097726  -24.5577026   187.03548348\n",
      "   84.90338357  -72.96763068  -21.39723571  -23.47683404  -95.89734833]\n",
      "y shape is  (100,)\n"
     ]
    }
   ],
   "source": [
    "#X Data\n",
    "print('X Data is \\n' , X_train[:10])\n",
    "print('X shape is ' , X_train.shape)\n",
    "\n",
    "#y Data\n",
    "print('y Data is \\n' , y_train[:10])\n",
    "print('y shape is ' , y_train.shape)"
   ]
  },
  {
   "cell_type": "code",
   "execution_count": 41,
   "id": "6cbc1a19",
   "metadata": {},
   "outputs": [],
   "source": [
    "#Required Libraries\n",
    "import copy, math\n",
    "import numpy as np  "
   ]
  },
  {
   "cell_type": "code",
   "execution_count": 42,
   "id": "c1ded903",
   "metadata": {},
   "outputs": [
    {
     "name": "stdout",
     "output_type": "stream",
     "text": [
      "w_init shape: (4,), b_init type: <class 'float'>\n"
     ]
    }
   ],
   "source": [
    "b_init = 785.1811367994083\n",
    "w_init = np.array([ 0.39133535, 18.75376741, -53.36032453, -26.42131618])\n",
    "print(f\"w_init shape: {w_init.shape}, b_init type: {type(b_init)}\")"
   ]
  },
  {
   "cell_type": "markdown",
   "id": "51fa0171",
   "metadata": {},
   "source": [
    "<a name=\"toc_15456_3\"></a>\n",
    "# Model Prediction With Multiple Variables\n",
    "The model's prediction with multiple variables is given by the linear model:\n",
    "\n",
    "$$ f_{\\mathbf{w},b}(\\mathbf{x}) =  w_0x_0 + w_1x_1 +... + w_{n-1}x_{n-1} + b \\tag{1}$$\n",
    "or in vector notation:\n",
    "$$ f_{\\mathbf{w},b}(\\mathbf{x}) = \\mathbf{w} \\cdot \\mathbf{x} + b  \\tag{2} $$ \n",
    "where $\\cdot$ is a vector `dot product`\n",
    "\n",
    "To demonstrate the dot product, we will implement prediction using (1) and (2)."
   ]
  },
  {
   "cell_type": "markdown",
   "id": "4d354324",
   "metadata": {},
   "source": [
    "## Single Prediction, vector"
   ]
  },
  {
   "cell_type": "code",
   "execution_count": 43,
   "id": "d2ace2d3",
   "metadata": {},
   "outputs": [],
   "source": [
    "def predict(x, w, b): \n",
    "    \"\"\"\n",
    "    single predict using linear regression\n",
    "    Args:\n",
    "      x (ndarray): Shape (n,) example with multiple features\n",
    "      w (ndarray): Shape (n,) model parameters   \n",
    "      b (scalar):             model parameter \n",
    "      \n",
    "    Returns:\n",
    "      p (scalar):  prediction\n",
    "    \"\"\"\n",
    "    p = np.dot(x, w) + b     \n",
    "    return p    "
   ]
  },
  {
   "cell_type": "markdown",
   "id": "c5c4c392",
   "metadata": {},
   "source": [
    "<a name=\"toc_15456_4\"></a>\n",
    "# Compute Cost With Multiple Variables\n",
    "The equation for the cost function with multiple variables $J(\\mathbf{w},b)$ is:\n",
    "$$J(\\mathbf{w},b) = \\frac{1}{2m} \\sum\\limits_{i = 0}^{m-1} (f_{\\mathbf{w},b}(\\mathbf{x}^{(i)}) - y^{(i)})^2 \\tag{3}$$ \n",
    "where:\n",
    "$$ f_{\\mathbf{w},b}(\\mathbf{x}^{(i)}) = \\mathbf{w} \\cdot \\mathbf{x}^{(i)} + b  \\tag{4} $$ \n",
    "\n",
    "\n",
    "In contrast to previous labs, $\\mathbf{w}$ and $\\mathbf{x}^{(i)}$ are vectors rather than scalars supporting multiple features."
   ]
  },
  {
   "cell_type": "code",
   "execution_count": 44,
   "id": "85a6ac9f",
   "metadata": {},
   "outputs": [],
   "source": [
    "def compute_cost(X, y, w, b): \n",
    "    \"\"\"\n",
    "    compute cost\n",
    "    Args:\n",
    "      X (ndarray (m,n)): Data, m examples with n features\n",
    "      y (ndarray (m,)) : target values\n",
    "      w (ndarray (n,)) : model parameters  \n",
    "      b (scalar)       : model parameter\n",
    "      \n",
    "    Returns:\n",
    "      cost (scalar): cost\n",
    "    \"\"\"\n",
    "    m = X.shape[0]\n",
    "    cost = 0.0\n",
    "    for i in range(m):                                \n",
    "        f_wb_i = np.dot(X[i], w) + b           #(n,)(n,) = scalar (see np.dot)\n",
    "        cost = cost + (f_wb_i - y[i])**2       #scalar\n",
    "    cost = cost / (2 * m)                      #scalar    \n",
    "    return cost"
   ]
  },
  {
   "cell_type": "markdown",
   "id": "d451b10a",
   "metadata": {},
   "source": [
    "<a name=\"toc_15456_5\"></a>\n",
    "# Gradient Descent With Multiple Variables\n",
    "Gradient descent for multiple variables:\n",
    "\n",
    "$$\\begin{align*} \\text{repeat}&\\text{ until convergence:} \\; \\lbrace \\newline\\;\n",
    "& w_j = w_j -  \\alpha \\frac{\\partial J(\\mathbf{w},b)}{\\partial w_j} \\tag{5}  \\; & \\text{for j = 0..n-1}\\newline\n",
    "&b\\ \\ = b -  \\alpha \\frac{\\partial J(\\mathbf{w},b)}{\\partial b}  \\newline \\rbrace\n",
    "\\end{align*}$$\n",
    "\n",
    "where, n is the number of features, parameters $w_j$,  $b$, are updated simultaneously and where  \n",
    "\n",
    "$$\n",
    "\\begin{align}\n",
    "\\frac{\\partial J(\\mathbf{w},b)}{\\partial w_j}  &= \\frac{1}{m} \\sum\\limits_{i = 0}^{m-1} (f_{\\mathbf{w},b}(\\mathbf{x}^{(i)}) - y^{(i)})x_{j}^{(i)} \\tag{6}  \\\\\n",
    "\\frac{\\partial J(\\mathbf{w},b)}{\\partial b}  &= \\frac{1}{m} \\sum\\limits_{i = 0}^{m-1} (f_{\\mathbf{w},b}(\\mathbf{x}^{(i)}) - y^{(i)}) \\tag{7}\n",
    "\\end{align}\n",
    "$$\n",
    "* m is the number of training examples in the data set\n",
    "\n",
    "    \n",
    "*  $f_{\\mathbf{w},b}(\\mathbf{x}^{(i)})$ is the model's prediction, while $y^{(i)}$ is the target value\n"
   ]
  },
  {
   "cell_type": "markdown",
   "id": "f001cf55",
   "metadata": {},
   "source": [
    "<a name=\"toc_15456_5.1\"></a>\n",
    "## Compute Gradient with Multiple Variables\n",
    "An implementation for calculating the equations (6) and (7) is below. There are many ways to implement this. In this version, there is an\n",
    "- outer loop over all m examples. \n",
    "    - $\\frac{\\partial J(\\mathbf{w},b)}{\\partial b}$ for the example can be computed directly and accumulated\n",
    "    - in a second loop over all n features:\n",
    "        - $\\frac{\\partial J(\\mathbf{w},b)}{\\partial w_j}$ is computed for each $w_j$.\n",
    "   "
   ]
  },
  {
   "cell_type": "code",
   "execution_count": 45,
   "id": "745bd8d5",
   "metadata": {},
   "outputs": [],
   "source": [
    "def compute_gradient(X, y, w, b): \n",
    "    \"\"\"\n",
    "    Computes the gradient for linear regression \n",
    "    Args:\n",
    "      X (ndarray (m,n)): Data, m examples with n features\n",
    "      y (ndarray (m,)) : target values\n",
    "      w (ndarray (n,)) : model parameters  \n",
    "      b (scalar)       : model parameter\n",
    "      \n",
    "    Returns:\n",
    "      dj_dw (ndarray (n,)): The gradient of the cost w.r.t. the parameters w. \n",
    "      dj_db (scalar):       The gradient of the cost w.r.t. the parameter b. \n",
    "    \"\"\"\n",
    "    m,n = X.shape           #(number of examples, number of features)\n",
    "    dj_dw = np.zeros((n,))\n",
    "    dj_db = 0.\n",
    "\n",
    "    for i in range(m):                             \n",
    "        err = (np.dot(X[i], w) + b) - y[i]   \n",
    "        for j in range(n):                         \n",
    "            dj_dw[j] = dj_dw[j] + err * X[i, j]    \n",
    "        dj_db = dj_db + err                        \n",
    "    dj_dw = dj_dw / m                                \n",
    "    dj_db = dj_db / m                                \n",
    "        \n",
    "    return dj_db, dj_dw"
   ]
  },
  {
   "cell_type": "markdown",
   "id": "2b6fbfe1",
   "metadata": {},
   "source": [
    "<a name=\"toc_15456_5.2\"></a>\n",
    "## Gradient Descent With Multiple Variables\n",
    "The routine below implements equation (5) above."
   ]
  },
  {
   "cell_type": "code",
   "execution_count": 46,
   "id": "186f6a5d",
   "metadata": {},
   "outputs": [],
   "source": [
    "def gradient_descent(X, y, w_in, b_in, cost_function, gradient_function, alpha, num_iters): \n",
    "    \"\"\"\n",
    "    Performs batch gradient descent to learn w and b. Updates w and b by taking \n",
    "    num_iters gradient steps with learning rate alpha\n",
    "    \n",
    "    Args:\n",
    "      X (ndarray (m,n))   : Data, m examples with n features\n",
    "      y (ndarray (m,))    : target values\n",
    "      w_in (ndarray (n,)) : initial model parameters  \n",
    "      b_in (scalar)       : initial model parameter\n",
    "      cost_function       : function to compute cost\n",
    "      gradient_function   : function to compute the gradient\n",
    "      alpha (float)       : Learning rate\n",
    "      num_iters (int)     : number of iterations to run gradient descent\n",
    "      \n",
    "    Returns:\n",
    "      w (ndarray (n,)) : Updated values of parameters \n",
    "      b (scalar)       : Updated value of parameter \n",
    "      \"\"\"\n",
    "    \n",
    "    # An array to store cost J and w's at each iteration primarily for graphing later\n",
    "    J_history = []\n",
    "    w = copy.deepcopy(w_in)  #avoid modifying global w within function\n",
    "    b = b_in\n",
    "    \n",
    "    for i in range(num_iters):\n",
    "\n",
    "        # Calculate the gradient and update the parameters\n",
    "        dj_db,dj_dw = gradient_function(X, y, w, b)   ##None\n",
    "\n",
    "        # Update Parameters using w, b, alpha and gradient\n",
    "        w = w - alpha * dj_dw               ##None\n",
    "        b = b - alpha * dj_db               ##None\n",
    "      \n",
    "        # Save cost J at each iteration\n",
    "        if i<100000:      # prevent resource exhaustion \n",
    "            J_history.append( cost_function(X, y, w, b))\n",
    "\n",
    "        # Print cost every at intervals 10 times or as many iterations if < 10\n",
    "        if i% math.ceil(num_iters / 10) == 0:\n",
    "            print(f\"Iteration {i:4d}: Cost {J_history[-1]:8.2f}   \")\n",
    "        \n",
    "    return w, b, J_history #return final w,b and J history for graphing"
   ]
  },
  {
   "cell_type": "code",
   "execution_count": 47,
   "id": "7286b024",
   "metadata": {},
   "outputs": [
    {
     "name": "stdout",
     "output_type": "stream",
     "text": [
      "Iteration    0: Cost  4896.55   \n",
      "Iteration  100: Cost  4896.14   \n",
      "Iteration  200: Cost  4895.73   \n",
      "Iteration  300: Cost  4895.32   \n",
      "Iteration  400: Cost  4894.91   \n",
      "Iteration  500: Cost  4894.50   \n",
      "Iteration  600: Cost  4894.09   \n",
      "Iteration  700: Cost  4893.69   \n",
      "Iteration  800: Cost  4893.28   \n",
      "Iteration  900: Cost  4892.87   \n",
      "b,w found by gradient descent: -0.01,[0.03941867 0.00882023 0.01718462 0.00767065] \n",
      "prediction: 0.04, target value: 149.2694016663034\n",
      "prediction: -0.08, target value: -197.69601504800724\n",
      "prediction: -0.01, target value: -25.260977260954256\n",
      "prediction: -0.02, target value: -24.557702603614707\n",
      "prediction: 0.07, target value: 187.03548348493334\n",
      "prediction: 0.02, target value: 84.9033835692537\n",
      "prediction: -0.03, target value: -72.96763068484451\n",
      "prediction: -0.01, target value: -21.397235707197723\n",
      "prediction: -0.02, target value: -23.476834037647805\n",
      "prediction: -0.04, target value: -95.89734832555249\n",
      "prediction: -0.05, target value: -90.84246692295726\n",
      "prediction: -0.03, target value: -58.168629207230026\n",
      "prediction: -0.02, target value: -35.86635076882497\n",
      "prediction: -0.04, target value: -64.87699426912909\n",
      "prediction: -0.00, target value: 31.031417822057794\n",
      "prediction: -0.03, target value: -45.35613536725356\n",
      "prediction: 0.01, target value: 42.90398993479506\n",
      "prediction: -0.03, target value: -40.470910952893234\n",
      "prediction: -0.03, target value: -34.00931650421243\n",
      "prediction: -0.06, target value: -129.59693162059926\n",
      "prediction: -0.01, target value: 25.47303565508217\n",
      "prediction: -0.03, target value: -30.52241554180759\n",
      "prediction: 0.03, target value: 70.82064928807074\n",
      "prediction: 0.05, target value: 149.42625630698453\n",
      "prediction: 0.04, target value: 117.7384083306842\n",
      "prediction: -0.01, target value: -10.450877650357125\n",
      "prediction: -0.13, target value: -284.02723616500475\n",
      "prediction: -0.02, target value: -24.59417305613786\n",
      "prediction: 0.05, target value: 151.8635566399803\n",
      "prediction: -0.04, target value: -103.98578698687417\n",
      "prediction: -0.01, target value: -4.037130954823901\n",
      "prediction: -0.05, target value: -110.41076699495132\n",
      "prediction: -0.03, target value: -48.598518124959675\n",
      "prediction: 0.07, target value: 163.7106561358591\n",
      "prediction: -0.05, target value: -103.49880496033038\n",
      "prediction: 0.04, target value: 125.99963756479305\n",
      "prediction: -0.02, target value: -18.08762913566904\n",
      "prediction: -0.04, target value: -75.30536346955166\n",
      "prediction: -0.01, target value: 8.125795275997138\n",
      "prediction: -0.01, target value: 7.928063110098865\n",
      "prediction: -0.00, target value: 23.37360530324763\n",
      "prediction: 0.08, target value: 202.11357329799432\n",
      "prediction: -0.07, target value: -147.65542322030197\n",
      "prediction: -0.05, target value: -86.77785215961251\n",
      "prediction: -0.03, target value: -68.48771226951256\n",
      "prediction: -0.04, target value: -84.40612735610303\n",
      "prediction: 0.03, target value: 81.36489294706449\n",
      "prediction: 0.03, target value: 46.644499653111716\n",
      "prediction: -0.01, target value: 0.6076441184223116\n",
      "prediction: 0.05, target value: 130.83886085044736\n",
      "prediction: -0.03, target value: -83.79958482766904\n",
      "prediction: -0.04, target value: -104.53264630970611\n",
      "prediction: -0.04, target value: -62.08632355217545\n",
      "prediction: -0.02, target value: -65.31774353011681\n",
      "prediction: 0.04, target value: 132.44949815628524\n",
      "prediction: -0.05, target value: -87.48770641749087\n",
      "prediction: 0.01, target value: 57.45060940867648\n",
      "prediction: -0.02, target value: -30.257038828616803\n",
      "prediction: 0.03, target value: 98.33219748462417\n",
      "prediction: -0.04, target value: -70.87370620436427\n",
      "prediction: 0.02, target value: 50.85499203081771\n",
      "prediction: -0.05, target value: -123.91696862292419\n",
      "prediction: -0.04, target value: -57.92658792797195\n",
      "prediction: -0.06, target value: -130.84546081408115\n",
      "prediction: -0.03, target value: -88.08634950860399\n",
      "prediction: 0.01, target value: 66.01747948753493\n",
      "prediction: 0.02, target value: 88.6620448936791\n",
      "prediction: 0.07, target value: 172.8253159258789\n",
      "prediction: 0.01, target value: 46.889270268477546\n",
      "prediction: 0.01, target value: 11.579436444901496\n",
      "prediction: 0.00, target value: 25.14137830834691\n",
      "prediction: -0.07, target value: -166.11188721194966\n",
      "prediction: 0.04, target value: 104.75224513793567\n",
      "prediction: -0.06, target value: -134.34648899242316\n",
      "prediction: -0.05, target value: -128.89234343597144\n",
      "prediction: -0.02, target value: -15.67326604186869\n",
      "prediction: -0.03, target value: -56.43603283298012\n",
      "prediction: 0.04, target value: 119.51253761783788\n",
      "prediction: -0.03, target value: -43.020901941836264\n",
      "prediction: 0.04, target value: 97.33110845847726\n",
      "prediction: 0.05, target value: 121.84784414069973\n",
      "prediction: -0.07, target value: -141.933244011753\n",
      "prediction: -0.08, target value: -181.00839329457824\n",
      "prediction: -0.05, target value: -117.41278466821723\n",
      "prediction: -0.01, target value: -15.082753609029256\n",
      "prediction: 0.01, target value: 40.3543474411627\n",
      "prediction: 0.07, target value: 184.37488412154897\n",
      "prediction: -0.04, target value: -62.60887931352756\n",
      "prediction: -0.01, target value: -5.81585565078559\n",
      "prediction: -0.05, target value: -116.13677080602154\n",
      "prediction: -0.04, target value: -96.92447661642362\n",
      "prediction: -0.06, target value: -121.81679183296711\n",
      "prediction: 0.02, target value: 47.15270502275253\n",
      "prediction: 0.00, target value: 3.5456727303084854\n",
      "prediction: -0.06, target value: -137.39350437306106\n",
      "prediction: -0.04, target value: -50.31996040441568\n",
      "prediction: -0.06, target value: -125.6050125643761\n",
      "prediction: 0.00, target value: 39.573043840406974\n",
      "prediction: -0.05, target value: -111.95649576193246\n",
      "prediction: 0.00, target value: 23.456588478226326\n"
     ]
    }
   ],
   "source": [
    "# initialize parameters\n",
    "initial_w = np.zeros_like(w_init)\n",
    "initial_b = 0.\n",
    "# some gradient descent settings\n",
    "iterations = 1000\n",
    "alpha = 5.0e-7\n",
    "# run gradient descent \n",
    "w_final, b_final, J_hist = gradient_descent(X_train, y_train, initial_w, initial_b,\n",
    "                                                    compute_cost, compute_gradient, \n",
    "                                                    alpha, iterations)\n",
    "print(f\"b,w found by gradient descent: {b_final:0.2f},{w_final} \")\n",
    "m,_ = X_train.shape\n",
    "for i in range(m):\n",
    "    print(f\"prediction: {np.dot(X_train[i], w_final) + b_final:0.2f}, target value: {y_train[i]}\")"
   ]
  },
  {
   "cell_type": "code",
   "execution_count": 36,
   "id": "72fbb060",
   "metadata": {},
   "outputs": [],
   "source": [
    "# print(predict(X_train, w_final, b_final))"
   ]
  }
 ],
 "metadata": {
  "kernelspec": {
   "display_name": "Python 3 (ipykernel)",
   "language": "python",
   "name": "python3"
  },
  "language_info": {
   "codemirror_mode": {
    "name": "ipython",
    "version": 3
   },
   "file_extension": ".py",
   "mimetype": "text/x-python",
   "name": "python",
   "nbconvert_exporter": "python",
   "pygments_lexer": "ipython3",
   "version": "3.9.16"
  }
 },
 "nbformat": 4,
 "nbformat_minor": 5
}
